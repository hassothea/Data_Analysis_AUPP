{
 "cells": [
  {
   "cell_type": "markdown",
   "metadata": {},
   "source": [
    "# **TP7 - Linear & Logistic Regression**\n",
    "\n",
    "**Course**: **INF-604: Data Analysis** <br>\n",
    "**Lecturer**: **Sothea HAS, PhD**\n",
    "\n",
    "-----\n",
    "\n",
    "**Objective:** In this lab, you will reproduce the result we have done in linear and logistic regression. Moreover, you will explore beyond what we have done including using multiple inputs variables, compare their performances and feature engineering to further elevate the model performance.\n",
    "\n",
    "- The `notebook` of this `Lab` can be downloaded here: [Lab7_Linear_Logistic_Regression.ipynb](https://hassothea.github.io/Data_Analysis_AUPP/Labs/Lab7_Linear_Logistic_Regression.ipynb).\n",
    "\n",
    "- Or you can work directly with `Google Colab` here: [Lab7_Linear_Logistic_Regression.ipynb](https://colab.research.google.com/drive/1zwoEzZpEEVX5yYgUh3Pbd5P73L0v_0Xv?usp=sharing).\n",
    "\n",
    "\n",
    "-----\n"
   ]
  },
  {
   "cell_type": "markdown",
   "metadata": {},
   "source": [
    "# **I. Linear Regression**\n",
    "\n",
    "We are working with kaggle [`Auto-MPG`](https://www.kaggle.com/datasets/uciml/autompg-dataset){target=\"_blank\"} dataset. Now, find a way to import the dataset into our environment."
   ]
  },
  {
   "cell_type": "code",
   "execution_count": null,
   "metadata": {},
   "outputs": [],
   "source": [
    "# To do"
   ]
  },
  {
   "cell_type": "markdown",
   "metadata": {},
   "source": [
    "## **1. Data Preprocessing and EDA**\n",
    "\n",
    "**A. Univariate Analysis**: \n",
    "\n",
    "- Check and modify columns with wrong data type.\n",
    "- What's wrong with column `horsepower`? How would you solve this problem?\n",
    "- Make sure all the columns are in correct data type as shown in [slide 7](https://hassothea.github.io/Data_Analysis_AUPP/Slides/Linear_Regression.html#/eda){target='_blank'}.\n",
    "- Compute descriptive statistics of the data and visualize their distribution as illustrated in [slide 8 and 9](https://hassothea.github.io/Data_Analysis_AUPP/Slides/Linear_Regression.html#/eda-1){target=\"_blank\"}."
   ]
  },
  {
   "cell_type": "code",
   "execution_count": 2,
   "metadata": {},
   "outputs": [],
   "source": [
    "# To do"
   ]
  },
  {
   "cell_type": "markdown",
   "metadata": {},
   "source": [
    "**B. Bivariate Analysis:**\n",
    "\n",
    "- Compute correlation matrix and pairplot (see [slide 10](https://hassothea.github.io/Data_Analysis_AUPP/Slides/Linear_Regression.html#/section){target=\"_blank}).\n",
    "- Also reproduce conditional boxplot of influence of `origin` on `mpg` as illustrated in [slide 11](https://hassothea.github.io/Data_Analysis_AUPP/Slides/Linear_Regression.html#/section-1){target=\"_blank\"}."
   ]
  },
  {
   "cell_type": "code",
   "execution_count": null,
   "metadata": {},
   "outputs": [],
   "source": [
    "# To do"
   ]
  },
  {
   "cell_type": "markdown",
   "metadata": {},
   "source": [
    "## **2. Simple Linear Regression (SLR)**\n",
    "\n",
    "- Pick one input (except `weight`) and build linear regression model to predict `mpg`.\n",
    "- Draw scatterplot of that input vs `mpg`. Add the fitted line to the existing scatterplot.\n",
    "- Compute $R^2$ and check the residual of the model. Explain the result.\n",
    "- Check if the coefficient of your model is significantly different from 0 within 95% certainty.\n",
    "- Interpret the model."
   ]
  },
  {
   "cell_type": "code",
   "execution_count": null,
   "metadata": {},
   "outputs": [],
   "source": [
    "# To do"
   ]
  },
  {
   "cell_type": "markdown",
   "metadata": {},
   "source": [
    "## **3. Multiple Linear Regression (MLR)**\n",
    "\n",
    "**A. All at once:**\n",
    "\n",
    "- Build multiple linear regression using all inputs.\n",
    "- Compute $R^2$ and $R^2_{\\text{adj}}$ and explain the result.\n",
    "- Check the residual. Explain the result.\n",
    "- Are all inputs significantly related with the target `mpg`?\n"
   ]
  },
  {
   "cell_type": "code",
   "execution_count": null,
   "metadata": {},
   "outputs": [],
   "source": [
    "# To do"
   ]
  },
  {
   "cell_type": "markdown",
   "metadata": {},
   "source": [
    "\n",
    "**B. Polynomial Features:**\n",
    "\n",
    "- Return to your choice in SLR, now create input data consisting of that input (call it $X$) and its square ($X^2$). Build multiple linear regression to predict `mpg` using $X$ and $X^2$. \n",
    "- Draw the scatterplot and the fitted curve.\n",
    "- Compute $R^2$ and $R^{2}_{\\text{adj}}$. Explain.\n",
    "- Check the residual and explain.\n",
    "- Conclude your findings: which one do you think is the best model among the three models?"
   ]
  },
  {
   "cell_type": "code",
   "execution_count": null,
   "metadata": {},
   "outputs": [],
   "source": [
    "# To do"
   ]
  },
  {
   "cell_type": "markdown",
   "metadata": {},
   "source": [
    "## **II. Logistic Regression**\n",
    "\n",
    "...Loading"
   ]
  },
  {
   "cell_type": "markdown",
   "metadata": {},
   "source": [
    "# Further readings\n",
    "- [Linear Regression Module, sklearn](https://scikit-learn.org/stable/modules/generated/sklearn.linear_model.LinearRegression.html)\n",
    "- [Linear Regression in Machine learning, geeks for geeks](https://www.geeksforgeeks.org/ml-linear-regression/).\n",
    "- [Linear Regression, wiki](https://en.wikipedia.org/wiki/Linear_regression)."
   ]
  }
 ],
 "metadata": {
  "kernelspec": {
   "display_name": "Python 3",
   "language": "python",
   "name": "python3"
  },
  "language_info": {
   "codemirror_mode": {
    "name": "ipython",
    "version": 3
   },
   "file_extension": ".py",
   "mimetype": "text/x-python",
   "name": "python",
   "nbconvert_exporter": "python",
   "pygments_lexer": "ipython3",
   "version": "3.12.5"
  }
 },
 "nbformat": 4,
 "nbformat_minor": 2
}
