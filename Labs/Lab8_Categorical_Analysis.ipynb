{
 "cells": [
  {
   "cell_type": "markdown",
   "metadata": {},
   "source": [
    "# **TP8 - Categorical Analysis & $\\chi^2$-test**\n",
    "\n",
    "**Course**: **INF-604: Data Analysis** <br>\n",
    "**Lecturer**: **Sothea HAS, PhD**\n",
    "\n",
    "-----\n",
    "\n",
    "**Objective:** This lab aims to determine whether two categorical variables are related using visualization techniques and the chi-square ($\\chi^2$) test. Additionally, it explores how this method can help identify valuable features for classification tasks.\n",
    "\n",
    "- The `notebook` of this `Lab` can be downloaded here: [Lab8_Categorical_Analysis.ipynb](https://hassothea.github.io/Data_Analysis_AUPP/Labs/Lab8_Categorical_Analysis.ipynb).\n",
    "\n",
    "- Or you can work directly with `Google Colab` here: [Lab8_Categorical_Analysis.ipynb](https://colab.research.google.com/drive/1zwoEzZpEEVX5yYgUh3Pbd5P73L0v_0Xv?usp=sharing).\n",
    "\n",
    "\n",
    "-----\n"
   ]
  },
  {
   "cell_type": "markdown",
   "metadata": {},
   "source": [
    "# **I. Revisit [Titanic Dataset](https://www.kaggle.com/datasets/surendhan/titanic-dataset)**\n",
    "\n",
    "We are interested in identifying the factors that affect the chance of survival of the passengers. Though containing missing values, but for the purpose of categorical analysis, those columns are not relevant. First, load the dataset to our environment and take care of the data type of categorical columns (except `Cabin`)."
   ]
  },
  {
   "cell_type": "code",
   "execution_count": null,
   "metadata": {},
   "outputs": [],
   "source": [
    "# To do"
   ]
  },
  {
   "cell_type": "markdown",
   "metadata": {},
   "source": [
    "**A.1. $\\chi^2$-test for `Pclass` and `Embarked`**\n",
    "\n",
    "As a warmp-up, we analyze whether the embarkation port is related to the status of the passengers or not.\n",
    "\n",
    "- Visualize the relationship between the two columns.\n",
    "- Compute two-way contingency table between the two columns.\n",
    "- Compute the marginal relative frequency for both columns.\n",
    "- Construct the expected and observed contingency tables.\n",
    "- Compute $\\chi^2$-distance between the two table.\n",
    "- At $\\alpha=0.01$, test $H_0: \\text{Pclass and Embarked are independent}$ against $H_1:\\text{Pclass and Embarked are not independent}$. `Hint`: use `chi2` module from `scipy.stats`.\n",
    "- Is the result reliable?"
   ]
  },
  {
   "cell_type": "code",
   "execution_count": null,
   "metadata": {},
   "outputs": [],
   "source": [
    "# To do"
   ]
  },
  {
   "cell_type": "markdown",
   "metadata": {},
   "source": [
    "\n",
    "**A.2. Reproduce the previous result using `chi2_contingency`**\n",
    "\n",
    "- Import `chi2_contingency` from `scipy.stats` and perform the $\\chi^2$-test of independent of the previous pair.\n",
    "- Verify that the result are identical to the previous result."
   ]
  },
  {
   "cell_type": "code",
   "execution_count": null,
   "metadata": {},
   "outputs": [],
   "source": [
    "# To do"
   ]
  },
  {
   "cell_type": "markdown",
   "metadata": {},
   "source": [
    "**B. Survived vs all categorical columns**\n",
    "\n",
    "- Perform $\\chi^2$ independent test between `Survived` and `Sex`.\n",
    "- Perform $\\chi^2$ independent test between `Survived` and each the other categorical columns.\n",
    "- Verify the assumptions of each test and list the factors that seem to affect the likelihood of survival of the passengers."
   ]
  },
  {
   "cell_type": "code",
   "execution_count": null,
   "metadata": {},
   "outputs": [],
   "source": [
    "# To do"
   ]
  },
  {
   "cell_type": "markdown",
   "metadata": {},
   "source": [
    "## **II. Countries and Languages**\n",
    "\n",
    "Perform $\\chi^2$-test of independent (both by hand and by using `chi2_contingency`) between the countries and primary language spoken within those countries conducted [here](https://pmc.ncbi.nlm.nih.gov/articles/PMC3718710/). The contingency table of country of residence and primary language spoken is given below:\n",
    "\t\n",
    "| Country\\ Language  | English | French | Spanish | German | Italian | Total |\n",
    "|:-------------------|:-------:|:------:|:-------:|:------:|:-------:|:-----:|\n",
    "| Canada | 688 | 280 | 10 | 11 | 11 | 1000 |\n",
    "| USA | 730 | 31 | 190 | 8 | 41 | 1000 |\n",
    "| England | 798 | 74 | 38 | 31 | 59 | 1000 |\n",
    "| Italy | 17 | 13 | 11 | 15 | 944 | 1000 |\n",
    "| Switzerland | 15 | 222 | 20 | 648 | 95 | 1000 |\n",
    "| Total | 2248 | 620 | 269 | 713 | 1150 | 5000 |"
   ]
  },
  {
   "cell_type": "code",
   "execution_count": null,
   "metadata": {},
   "outputs": [],
   "source": [
    "# To do"
   ]
  },
  {
   "cell_type": "markdown",
   "metadata": {},
   "source": [
    "## **III. Categorical analysis for model construction**\n",
    "\n",
    "[Heart Disease Dataset](https://www.kaggle.com/datasets/johnsmith88/heart-disease-dataset) dates from 1988 and consists of four databases: Cleveland, Hungary, Switzerland, and Long Beach V. It contains 76 attributes, including the predicted attribute, but all published experiments refer to using a subset of 14 of them. The \"target\" field refers to the presence of heart disease in the patient. It is integer valued 0 = no disease and 1 = disease.\n",
    "\n",
    "Let's build logistic regression model to predict the column `target`.\n",
    "\n",
    "- How many qualitative and quantitative variables are there in this dataset (answer this question carefully!\n",
    "- Convert variables into their suitable data type if there are any inconsistent variable types.\n",
    "- Are there any missing values? Duplicate data?"
   ]
  },
  {
   "cell_type": "code",
   "execution_count": null,
   "metadata": {},
   "outputs": [],
   "source": [
    "# To do"
   ]
  },
  {
   "cell_type": "markdown",
   "metadata": {},
   "source": [
    "- Compute $\\eta$ coefficient matrix between all quantitative columns with the `target`.\n",
    "- Perform $\\chi^2$-test of independent between qualitative inputs with the `target`."
   ]
  },
  {
   "cell_type": "code",
   "execution_count": null,
   "metadata": {},
   "outputs": [],
   "source": [
    "# To do"
   ]
  },
  {
   "cell_type": "markdown",
   "metadata": {},
   "source": [
    "- Split the data into $80\\%-20\\%$ testing data.\n",
    "- Build three logistic regression models\n",
    "    - `qual_model`: built using only qualitative columns, \n",
    "    - `quan_model`: built using only quantitative columns\n",
    "    - `full_model`: built using all columns.\n",
    "- Predict the testing data and measure the performance of the three models using: accuracy, precision, recall and f1-score.\n",
    "- Which model seems to be the best one? "
   ]
  },
  {
   "cell_type": "code",
   "execution_count": null,
   "metadata": {},
   "outputs": [],
   "source": [
    "# To do"
   ]
  },
  {
   "cell_type": "markdown",
   "metadata": {},
   "source": [
    "# Further Readings\n",
    "\n",
    "- [Correspondence Analysis, Hervé Abdi & Michel Béra](https://cedric.cnam.fr/fichiers/art_3066.pdf)\n",
    "- [Correspondence analysis is a useful tool to uncover the relationships among categorical variables](https://pmc.ncbi.nlm.nih.gov/articles/PMC3718710/)\n",
    "- [The Use of Correspondence Analysis in the Exploration of Health Survey Data](www.fbbva.es/wp-content/uploads/2017/05/dat/DT_2002_05.pdf)\n",
    "- [Correspondence Analysis](https://link.springer.com/referenceworkentry/10.1007/978-1-4939-7131-2_140)"
   ]
  }
 ],
 "metadata": {
  "kernelspec": {
   "display_name": "Python 3",
   "language": "python",
   "name": "python3"
  },
  "language_info": {
   "codemirror_mode": {
    "name": "ipython",
    "version": 3
   },
   "file_extension": ".py",
   "mimetype": "text/x-python",
   "name": "python",
   "nbconvert_exporter": "python",
   "pygments_lexer": "ipython3",
   "version": "3.12.5"
  }
 },
 "nbformat": 4,
 "nbformat_minor": 2
}
